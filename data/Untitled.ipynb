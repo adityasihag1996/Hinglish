{
 "cells": [
  {
   "cell_type": "code",
   "execution_count": 3,
   "id": "0b01ccc5-b4f6-44fd-a2b3-37595661d606",
   "metadata": {},
   "outputs": [
    {
     "name": "stdout",
     "output_type": "stream",
     "text": [
      "Lines with 2 commas removed and saved back to the file.\n"
     ]
    }
   ],
   "source": [
    "# Define the file path\n",
    "file_path = \"test_hinglish.txt\"\n",
    "\n",
    "# Read the file into a list of lines\n",
    "with open(file_path, \"r\") as file:\n",
    "    lines = file.readlines()\n",
    "\n",
    "# Process the lines, removing lines with two commas\n",
    "filtered_lines = [line for line in lines if line.count(\",\") != 2]\n",
    "\n",
    "# Write the filtered lines back to the same file\n",
    "with open(\"test_hinglish_clean.txt\", \"w\") as file:\n",
    "    file.writelines(filtered_lines)\n",
    "\n",
    "print(\"Lines with 2 commas removed and saved back to the file.\")\n"
   ]
  },
  {
   "cell_type": "code",
   "execution_count": null,
   "id": "f986d0c7-4253-422e-9611-b4b06f6ac92f",
   "metadata": {},
   "outputs": [],
   "source": []
  },
  {
   "cell_type": "code",
   "execution_count": null,
   "id": "f45420c8-f755-4370-8ae6-8952972ef4b8",
   "metadata": {},
   "outputs": [],
   "source": []
  }
 ],
 "metadata": {
  "kernelspec": {
   "display_name": "Python 3 (ipykernel)",
   "language": "python",
   "name": "python3"
  },
  "language_info": {
   "codemirror_mode": {
    "name": "ipython",
    "version": 3
   },
   "file_extension": ".py",
   "mimetype": "text/x-python",
   "name": "python",
   "nbconvert_exporter": "python",
   "pygments_lexer": "ipython3",
   "version": "3.10.12"
  }
 },
 "nbformat": 4,
 "nbformat_minor": 5
}
